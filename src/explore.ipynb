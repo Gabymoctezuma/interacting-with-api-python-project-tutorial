{
 "cells": [
  {
   "cell_type": "markdown",
   "metadata": {},
   "source": [
    "# Explore here"
   ]
  },
  {
   "cell_type": "markdown",
   "metadata": {},
   "source": [
    "PROYECTO API"
   ]
  },
  {
   "cell_type": "code",
   "execution_count": 43,
   "metadata": {},
   "outputs": [
    {
     "name": "stdout",
     "output_type": "stream",
     "text": [
      "3d7d24640e904d3f8668d06dd46dc533 6e8fd5d3ba4f43e8802b20a30c01fa2f\n"
     ]
    }
   ],
   "source": [
    "import os\n",
    "import pandas as pd\n",
    "import seaborn as sns\n",
    "from dotenv import load_dotenv\n",
    "\n",
    "# load the .env file variables\n",
    "\n",
    "load_dotenv()\n",
    "\n",
    "\n",
    "client_id = os.environ.get(\"CLIENT_ID\")\n",
    "client_secret = os.environ.get(\"CLIENT_SECRET\")\n",
    "print(client_id, client_secret)\n"
   ]
  },
  {
   "cell_type": "code",
   "execution_count": 46,
   "metadata": {},
   "outputs": [],
   "source": [
    "import spotipy\n",
    "from spotipy.oauth2 import SpotifyClientCredentials\n",
    "\n",
    "artist_id=\"7eBQrhxTHcor6gcbcLhqE5\"\n",
    "\n",
    "\n",
    "# Configurar autenticación\n",
    "spotify = spotipy.Spotify(client_credentials_manager=SpotifyClientCredentials(client_id=client_id,\n",
    "                                                                              client_secret=client_secret))\n",
    "\n",
    "# Obtener las canciones más populares del artista\n",
    "result = spotify.artist_top_tracks(artist_id)\n"
   ]
  },
  {
   "cell_type": "code",
   "execution_count": 47,
   "metadata": {},
   "outputs": [
    {
     "name": "stdout",
     "output_type": "stream",
     "text": [
      "track    : Host of a Ghost\n",
      "track    : Espiral\n",
      "track    : Cachito De Galaxia\n",
      "track    : Pájaros\n",
      "track    : Huitzil\n",
      "track    : Rincón Yucateco\n",
      "track    : Himno Eterno\n",
      "track    : La China\n",
      "track    : Xoloitzcuintle Chicloso\n",
      "track    : Murciélago\n"
     ]
    }
   ],
   "source": [
    "# load the .env file variables\n",
    "load_dotenv()\n",
    "canciones=[]\n",
    "popularidad=[]\n",
    "duracion=[]\n",
    "\n",
    "for track in result['tracks'][:20]:\n",
    "    print('track    : ' + track['name'])\n",
    "    canciones.append(track['name'])\n",
    "    popularidad.append(track['popularity'])\n",
    "    duracion.append(track['duration_ms']/(1000*60)%60)"
   ]
  },
  {
   "cell_type": "code",
   "execution_count": 54,
   "metadata": {},
   "outputs": [
    {
     "data": {
      "text/html": [
       "<div>\n",
       "<style scoped>\n",
       "    .dataframe tbody tr th:only-of-type {\n",
       "        vertical-align: middle;\n",
       "    }\n",
       "\n",
       "    .dataframe tbody tr th {\n",
       "        vertical-align: top;\n",
       "    }\n",
       "\n",
       "    .dataframe thead th {\n",
       "        text-align: right;\n",
       "    }\n",
       "</style>\n",
       "<table border=\"1\" class=\"dataframe\">\n",
       "  <thead>\n",
       "    <tr style=\"text-align: right;\">\n",
       "      <th></th>\n",
       "      <th>canciones</th>\n",
       "      <th>popularidad</th>\n",
       "      <th>duracion</th>\n",
       "    </tr>\n",
       "  </thead>\n",
       "  <tbody>\n",
       "    <tr>\n",
       "      <th>0</th>\n",
       "      <td>Host of a Ghost</td>\n",
       "      <td>51</td>\n",
       "      <td>4.341100</td>\n",
       "    </tr>\n",
       "    <tr>\n",
       "      <th>1</th>\n",
       "      <td>Espiral</td>\n",
       "      <td>51</td>\n",
       "      <td>5.366883</td>\n",
       "    </tr>\n",
       "    <tr>\n",
       "      <th>2</th>\n",
       "      <td>Cachito De Galaxia</td>\n",
       "      <td>50</td>\n",
       "      <td>4.950883</td>\n",
       "    </tr>\n",
       "    <tr>\n",
       "      <th>3</th>\n",
       "      <td>Pájaros</td>\n",
       "      <td>50</td>\n",
       "      <td>5.418667</td>\n",
       "    </tr>\n",
       "    <tr>\n",
       "      <th>4</th>\n",
       "      <td>Huitzil</td>\n",
       "      <td>48</td>\n",
       "      <td>4.069583</td>\n",
       "    </tr>\n",
       "    <tr>\n",
       "      <th>5</th>\n",
       "      <td>Rincón Yucateco</td>\n",
       "      <td>45</td>\n",
       "      <td>4.490300</td>\n",
       "    </tr>\n",
       "    <tr>\n",
       "      <th>6</th>\n",
       "      <td>Himno Eterno</td>\n",
       "      <td>43</td>\n",
       "      <td>6.331550</td>\n",
       "    </tr>\n",
       "    <tr>\n",
       "      <th>7</th>\n",
       "      <td>La China</td>\n",
       "      <td>42</td>\n",
       "      <td>5.739150</td>\n",
       "    </tr>\n",
       "    <tr>\n",
       "      <th>8</th>\n",
       "      <td>Xoloitzcuintle Chicloso</td>\n",
       "      <td>42</td>\n",
       "      <td>9.399767</td>\n",
       "    </tr>\n",
       "    <tr>\n",
       "      <th>9</th>\n",
       "      <td>Murciélago</td>\n",
       "      <td>42</td>\n",
       "      <td>4.555983</td>\n",
       "    </tr>\n",
       "  </tbody>\n",
       "</table>\n",
       "</div>"
      ],
      "text/plain": [
       "                 canciones  popularidad  duracion\n",
       "0          Host of a Ghost           51  4.341100\n",
       "1                  Espiral           51  5.366883\n",
       "2       Cachito De Galaxia           50  4.950883\n",
       "3                  Pájaros           50  5.418667\n",
       "4                  Huitzil           48  4.069583\n",
       "5          Rincón Yucateco           45  4.490300\n",
       "6             Himno Eterno           43  6.331550\n",
       "7                 La China           42  5.739150\n",
       "8  Xoloitzcuintle Chicloso           42  9.399767\n",
       "9               Murciélago           42  4.555983"
      ]
     },
     "execution_count": 54,
     "metadata": {},
     "output_type": "execute_result"
    }
   ],
   "source": [
    "\n",
    "df=pd.DataFrame()\n",
    "df[\"canciones\"]=canciones\n",
    "df[\"popularidad\"]=popularidad\n",
    "df[\"duracion\"]=duracion\n",
    "df\n"
   ]
  },
  {
   "cell_type": "code",
   "execution_count": 60,
   "metadata": {},
   "outputs": [
    {
     "name": "stdout",
     "output_type": "stream",
     "text": [
      "5.466386666666667\n"
     ]
    }
   ],
   "source": [
    "duracion_media = df['duracion'].mean()\n",
    "print(duracion_media)\n"
   ]
  },
  {
   "cell_type": "code",
   "execution_count": 56,
   "metadata": {},
   "outputs": [
    {
     "data": {
      "image/png": "[encoded data removed]",
      "text/plain": [
       "<Figure size 640x480 with 1 Axes>"
      ]
     },
     "metadata": {},
     "output_type": "display_data"
    }
   ],
   "source": [
    "\n",
    "scatter_plot = sns.scatterplot(data = df, x = \"popularidad\", y = \"duracion\")\n",
    "fig = scatter_plot.get_figure()\n",
    "fig.savefig(\"scatter_plot.png\")"
   ]
  },
  {
   "cell_type": "markdown",
   "metadata": {},
   "source": [
    "\n",
    "-Las canciones con mayor duración son las menos populares\n",
    "Teniendo como base el dato de la media de la duracion \n",
    "-La mayoria de las canciones que se encuentran mas cerca de la media son las mas populares\n",
    "\n",
    "Este grafico tiene una dispersion entre puntos, asi que estas variables no tienen una relación fuerte.\n"
   ]
  },
  {
   "cell_type": "code",
   "execution_count": null,
   "metadata": {},
   "outputs": [],
   "source": []
  }
 ],
 "metadata": {
  "kernelspec": {
   "display_name": "Python 3",
   "language": "python",
   "name": "python3"
  },
  "language_info": {
   "codemirror_mode": {
    "name": "ipython",
    "version": 3
   },
   "file_extension": ".py",
   "mimetype": "text/x-python",
   "name": "python",
   "nbconvert_exporter": "python",
   "pygments_lexer": "ipython3",
   "version": "3.11.4"
  },
  "orig_nbformat": 4
 },
 "nbformat": 4,
 "nbformat_minor": 2
}
